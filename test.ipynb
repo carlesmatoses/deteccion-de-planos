{
 "cells": [
  {
   "cell_type": "code",
   "execution_count": 1,
   "metadata": {},
   "outputs": [],
   "source": [
    "# Standard PySceneDetect imports:\n",
    "import scenedetect\n",
    "from scenedetect import VideoManager\n",
    "from scenedetect import SceneManager\n",
    "\n",
    "# For content-aware scene detection:\n",
    "from scenedetect.detectors import ContentDetector"
   ]
  },
  {
   "cell_type": "code",
   "execution_count": 7,
   "metadata": {},
   "outputs": [],
   "source": [
    "def find_scenes(video_path, threshold=30.0):\n",
    "    # Create our video & scene managers, then add the detector.\n",
    "    video_manager = VideoManager([video_path])\n",
    "    scene_manager = SceneManager()\n",
    "    scene_manager.add_detector(\n",
    "        ContentDetector(threshold=threshold))\n",
    "\n",
    "    # Improve processing speed by downscaling before processing.\n",
    "    video_manager.set_downscale_factor() #1:27s a 40s\n",
    "\n",
    "    # Start the video manager and perform the scene detection.\n",
    "    video_manager.start()\n",
    "    scene_manager.detect_scenes(frame_source=video_manager)\n",
    "\n",
    "    # Each returned scene is a tuple of the (start, end) timecode.\n",
    "    return scene_manager.get_scene_list()"
   ]
  },
  {
   "cell_type": "code",
   "execution_count": 10,
   "metadata": {},
   "outputs": [
    {
     "name": "stderr",
     "output_type": "stream",
     "text": [
      "100%|██████████| 5674/5674 [00:43<00:00, 131.44frames/s]\n"
     ]
    }
   ],
   "source": [
    "scenes = find_scenes('videos/hero.mp4')\n",
    "# print(scenes)\n"
   ]
  },
  {
   "cell_type": "code",
   "execution_count": 9,
   "metadata": {},
   "outputs": [],
   "source": [
    "file1 = open(\"scenes.txt\",\"w\")\n",
    "for i in scenes:\n",
    "    file1.write(str(i)+\"\\n\")\n",
    "file1.close()"
   ]
  },
  {
   "cell_type": "code",
   "execution_count": null,
   "metadata": {},
   "outputs": [],
   "source": [
    "scene_manager.save_images(\n",
    "        scene_list, \n",
    "        video_manager, \n",
    "        num_images=3, \n",
    "        frame_margin=1, \n",
    "        image_extension='jpg', \n",
    "        encoder_param=95,\n",
    "        image_name_template='$VIDEO_NAME-Scene-$SCENE_NUMBER-$IMAGE_NUMBER', \n",
    "        output_dir=None, \n",
    "        downscale_factor=1, \n",
    "        show_progress=False, \n",
    "        scale=None, \n",
    "        height=None, \n",
    "        width=None\n",
    "    )"
   ]
  }
 ],
 "metadata": {
  "interpreter": {
   "hash": "71d001548dc8421e2cbb9d2bef6402e08c7125fccf5258ca8d37aa5c1cec502d"
  },
  "kernelspec": {
   "display_name": "Python 3.7.12 ('split')",
   "language": "python",
   "name": "python3"
  },
  "language_info": {
   "codemirror_mode": {
    "name": "ipython",
    "version": 3
   },
   "file_extension": ".py",
   "mimetype": "text/x-python",
   "name": "python",
   "nbconvert_exporter": "python",
   "pygments_lexer": "ipython3",
   "version": "3.7.12"
  },
  "orig_nbformat": 4
 },
 "nbformat": 4,
 "nbformat_minor": 2
}
